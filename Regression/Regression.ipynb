{
 "cells": [
  {
   "cell_type": "markdown",
   "metadata": {},
   "source": [
    "Data reference : https://www.kaggle.com/c/rossmann-store-sales/data"
   ]
  },
  {
   "cell_type": "markdown",
   "metadata": {},
   "source": [
    "This original Kaggle project requirement is to predict both Customers and Sales. This project analysis is limited to Sales only."
   ]
  },
  {
   "cell_type": "code",
   "execution_count": 1,
   "metadata": {
    "collapsed": true
   },
   "outputs": [],
   "source": [
    "# Loading the required Python libraries\n",
    "\n",
    "import warnings \n",
    "warnings.filterwarnings('ignore')\n",
    "warnings.simplefilter('ignore')\n",
    "\n",
    "import numpy as np\n",
    "import pandas as pd\n",
    "import seaborn as sns\n",
    "import matplotlib.pyplot as plt\n",
    "\n",
    "import datetime as datetime"
   ]
  },
  {
   "cell_type": "code",
   "execution_count": 2,
   "metadata": {
    "collapsed": true
   },
   "outputs": [],
   "source": [
    "# Importing the dataset as pandas data frame\n",
    "store_df = pd.read_csv('store.csv')\n",
    "train_df = pd.read_csv('train.csv', parse_dates = True, index_col = 'Date')"
   ]
  },
  {
   "cell_type": "code",
   "execution_count": 3,
   "metadata": {},
   "outputs": [
    {
     "name": "stdout",
     "output_type": "stream",
     "text": [
      "The sample of the STORE dataframe is shown below and the dataframe has the following dimensions :  (1115, 10)\n"
     ]
    },
    {
     "data": {
      "text/html": [
       "<div>\n",
       "<style scoped>\n",
       "    .dataframe tbody tr th:only-of-type {\n",
       "        vertical-align: middle;\n",
       "    }\n",
       "\n",
       "    .dataframe tbody tr th {\n",
       "        vertical-align: top;\n",
       "    }\n",
       "\n",
       "    .dataframe thead th {\n",
       "        text-align: right;\n",
       "    }\n",
       "</style>\n",
       "<table border=\"1\" class=\"dataframe\">\n",
       "  <thead>\n",
       "    <tr style=\"text-align: right;\">\n",
       "      <th></th>\n",
       "      <th>Store</th>\n",
       "      <th>StoreType</th>\n",
       "      <th>Assortment</th>\n",
       "      <th>CompetitionDistance</th>\n",
       "      <th>CompetitionOpenSinceMonth</th>\n",
       "      <th>CompetitionOpenSinceYear</th>\n",
       "      <th>Promo2</th>\n",
       "      <th>Promo2SinceWeek</th>\n",
       "      <th>Promo2SinceYear</th>\n",
       "      <th>PromoInterval</th>\n",
       "    </tr>\n",
       "  </thead>\n",
       "  <tbody>\n",
       "    <tr>\n",
       "      <th>0</th>\n",
       "      <td>1</td>\n",
       "      <td>c</td>\n",
       "      <td>a</td>\n",
       "      <td>1270.0</td>\n",
       "      <td>9.0</td>\n",
       "      <td>2008.0</td>\n",
       "      <td>0</td>\n",
       "      <td>NaN</td>\n",
       "      <td>NaN</td>\n",
       "      <td>NaN</td>\n",
       "    </tr>\n",
       "    <tr>\n",
       "      <th>1</th>\n",
       "      <td>2</td>\n",
       "      <td>a</td>\n",
       "      <td>a</td>\n",
       "      <td>570.0</td>\n",
       "      <td>11.0</td>\n",
       "      <td>2007.0</td>\n",
       "      <td>1</td>\n",
       "      <td>13.0</td>\n",
       "      <td>2010.0</td>\n",
       "      <td>Jan,Apr,Jul,Oct</td>\n",
       "    </tr>\n",
       "    <tr>\n",
       "      <th>2</th>\n",
       "      <td>3</td>\n",
       "      <td>a</td>\n",
       "      <td>a</td>\n",
       "      <td>14130.0</td>\n",
       "      <td>12.0</td>\n",
       "      <td>2006.0</td>\n",
       "      <td>1</td>\n",
       "      <td>14.0</td>\n",
       "      <td>2011.0</td>\n",
       "      <td>Jan,Apr,Jul,Oct</td>\n",
       "    </tr>\n",
       "    <tr>\n",
       "      <th>3</th>\n",
       "      <td>4</td>\n",
       "      <td>c</td>\n",
       "      <td>c</td>\n",
       "      <td>620.0</td>\n",
       "      <td>9.0</td>\n",
       "      <td>2009.0</td>\n",
       "      <td>0</td>\n",
       "      <td>NaN</td>\n",
       "      <td>NaN</td>\n",
       "      <td>NaN</td>\n",
       "    </tr>\n",
       "    <tr>\n",
       "      <th>4</th>\n",
       "      <td>5</td>\n",
       "      <td>a</td>\n",
       "      <td>a</td>\n",
       "      <td>29910.0</td>\n",
       "      <td>4.0</td>\n",
       "      <td>2015.0</td>\n",
       "      <td>0</td>\n",
       "      <td>NaN</td>\n",
       "      <td>NaN</td>\n",
       "      <td>NaN</td>\n",
       "    </tr>\n",
       "  </tbody>\n",
       "</table>\n",
       "</div>"
      ],
      "text/plain": [
       "   Store StoreType Assortment  CompetitionDistance  CompetitionOpenSinceMonth  \\\n",
       "0      1         c          a               1270.0                        9.0   \n",
       "1      2         a          a                570.0                       11.0   \n",
       "2      3         a          a              14130.0                       12.0   \n",
       "3      4         c          c                620.0                        9.0   \n",
       "4      5         a          a              29910.0                        4.0   \n",
       "\n",
       "   CompetitionOpenSinceYear  Promo2  Promo2SinceWeek  Promo2SinceYear  \\\n",
       "0                    2008.0       0              NaN              NaN   \n",
       "1                    2007.0       1             13.0           2010.0   \n",
       "2                    2006.0       1             14.0           2011.0   \n",
       "3                    2009.0       0              NaN              NaN   \n",
       "4                    2015.0       0              NaN              NaN   \n",
       "\n",
       "     PromoInterval  \n",
       "0              NaN  \n",
       "1  Jan,Apr,Jul,Oct  \n",
       "2  Jan,Apr,Jul,Oct  \n",
       "3              NaN  \n",
       "4              NaN  "
      ]
     },
     "execution_count": 3,
     "metadata": {},
     "output_type": "execute_result"
    }
   ],
   "source": [
    "# An overview of the Train and Store dataframes\n",
    "print('The sample of the STORE dataframe is shown below and the dataframe has the following dimensions : ', store_df.shape)\n",
    "store_df.head(5)"
   ]
  },
  {
   "cell_type": "code",
   "execution_count": 4,
   "metadata": {},
   "outputs": [
    {
     "name": "stdout",
     "output_type": "stream",
     "text": [
      "The sample of the TRAIN dataframe is shown below and the dataframe has the following dimensions :  (1017209, 8)\n"
     ]
    },
    {
     "data": {
      "text/html": [
       "<div>\n",
       "<style scoped>\n",
       "    .dataframe tbody tr th:only-of-type {\n",
       "        vertical-align: middle;\n",
       "    }\n",
       "\n",
       "    .dataframe tbody tr th {\n",
       "        vertical-align: top;\n",
       "    }\n",
       "\n",
       "    .dataframe thead th {\n",
       "        text-align: right;\n",
       "    }\n",
       "</style>\n",
       "<table border=\"1\" class=\"dataframe\">\n",
       "  <thead>\n",
       "    <tr style=\"text-align: right;\">\n",
       "      <th></th>\n",
       "      <th>Store</th>\n",
       "      <th>DayOfWeek</th>\n",
       "      <th>Sales</th>\n",
       "      <th>Customers</th>\n",
       "      <th>Open</th>\n",
       "      <th>Promo</th>\n",
       "      <th>StateHoliday</th>\n",
       "      <th>SchoolHoliday</th>\n",
       "    </tr>\n",
       "    <tr>\n",
       "      <th>Date</th>\n",
       "      <th></th>\n",
       "      <th></th>\n",
       "      <th></th>\n",
       "      <th></th>\n",
       "      <th></th>\n",
       "      <th></th>\n",
       "      <th></th>\n",
       "      <th></th>\n",
       "    </tr>\n",
       "  </thead>\n",
       "  <tbody>\n",
       "    <tr>\n",
       "      <th>2015-07-31</th>\n",
       "      <td>1</td>\n",
       "      <td>5</td>\n",
       "      <td>5263</td>\n",
       "      <td>555</td>\n",
       "      <td>1</td>\n",
       "      <td>1</td>\n",
       "      <td>0</td>\n",
       "      <td>1</td>\n",
       "    </tr>\n",
       "    <tr>\n",
       "      <th>2015-07-31</th>\n",
       "      <td>2</td>\n",
       "      <td>5</td>\n",
       "      <td>6064</td>\n",
       "      <td>625</td>\n",
       "      <td>1</td>\n",
       "      <td>1</td>\n",
       "      <td>0</td>\n",
       "      <td>1</td>\n",
       "    </tr>\n",
       "    <tr>\n",
       "      <th>2015-07-31</th>\n",
       "      <td>3</td>\n",
       "      <td>5</td>\n",
       "      <td>8314</td>\n",
       "      <td>821</td>\n",
       "      <td>1</td>\n",
       "      <td>1</td>\n",
       "      <td>0</td>\n",
       "      <td>1</td>\n",
       "    </tr>\n",
       "    <tr>\n",
       "      <th>2015-07-31</th>\n",
       "      <td>4</td>\n",
       "      <td>5</td>\n",
       "      <td>13995</td>\n",
       "      <td>1498</td>\n",
       "      <td>1</td>\n",
       "      <td>1</td>\n",
       "      <td>0</td>\n",
       "      <td>1</td>\n",
       "    </tr>\n",
       "    <tr>\n",
       "      <th>2015-07-31</th>\n",
       "      <td>5</td>\n",
       "      <td>5</td>\n",
       "      <td>4822</td>\n",
       "      <td>559</td>\n",
       "      <td>1</td>\n",
       "      <td>1</td>\n",
       "      <td>0</td>\n",
       "      <td>1</td>\n",
       "    </tr>\n",
       "  </tbody>\n",
       "</table>\n",
       "</div>"
      ],
      "text/plain": [
       "            Store  DayOfWeek  Sales  Customers  Open  Promo StateHoliday  \\\n",
       "Date                                                                       \n",
       "2015-07-31      1          5   5263        555     1      1            0   \n",
       "2015-07-31      2          5   6064        625     1      1            0   \n",
       "2015-07-31      3          5   8314        821     1      1            0   \n",
       "2015-07-31      4          5  13995       1498     1      1            0   \n",
       "2015-07-31      5          5   4822        559     1      1            0   \n",
       "\n",
       "            SchoolHoliday  \n",
       "Date                       \n",
       "2015-07-31              1  \n",
       "2015-07-31              1  \n",
       "2015-07-31              1  \n",
       "2015-07-31              1  \n",
       "2015-07-31              1  "
      ]
     },
     "execution_count": 4,
     "metadata": {},
     "output_type": "execute_result"
    }
   ],
   "source": [
    "print('The sample of the TRAIN dataframe is shown below and the dataframe has the following dimensions : ', train_df.shape)\n",
    "train_df.head(5)"
   ]
  },
  {
   "cell_type": "code",
   "execution_count": 5,
   "metadata": {
    "scrolled": true
   },
   "outputs": [
    {
     "name": "stdout",
     "output_type": "stream",
     "text": [
      "The missing values in the store dataframe :\n",
      " Store                          0\n",
      "StoreType                      0\n",
      "Assortment                     0\n",
      "CompetitionDistance            3\n",
      "CompetitionOpenSinceMonth    354\n",
      "CompetitionOpenSinceYear     354\n",
      "Promo2                         0\n",
      "Promo2SinceWeek              544\n",
      "Promo2SinceYear              544\n",
      "PromoInterval                544\n",
      "dtype: int64\n",
      "After features removal, the STORE dataframe has the following dimensions :  (1115, 5)\n"
     ]
    }
   ],
   "source": [
    "# Dealing with missing values - Store dataframe\n",
    "print(\"The missing values in the store dataframe :\\n\", store_df.isnull().sum())\n",
    "\n",
    "# Removing features with high % of missing values\n",
    "store_df = store_df.drop(['CompetitionOpenSinceMonth', 'CompetitionOpenSinceYear','Promo2SinceWeek','Promo2SinceYear','PromoInterval'], axis = 1)\n",
    "print('After features removal, the STORE dataframe has the following dimensions : ', store_df.shape)"
   ]
  },
  {
   "cell_type": "code",
   "execution_count": 6,
   "metadata": {},
   "outputs": [
    {
     "name": "stdout",
     "output_type": "stream",
     "text": [
      "The Distribution of non-missing values of Competition Distance in Store Dataframe : \n",
      "\n"
     ]
    },
    {
     "data": {
      "image/png": "[encoded data removed]",
      "text/plain": [
       "<matplotlib.figure.Figure at 0x28f16365898>"
      ]
     },
     "metadata": {},
     "output_type": "display_data"
    }
   ],
   "source": [
    "# Replacing missing values \n",
    "print('The Distribution of non-missing values of Competition Distance in Store Dataframe : \\n')\n",
    "sns.distplot(store_df.CompetitionDistance.dropna())\n",
    "plt.show()"
   ]
  },
  {
   "cell_type": "markdown",
   "metadata": {},
   "source": [
    "From the above distribution plot, we can see that the values are mostly right skewed. Hence, median imputation would be an appropriate method in this case."
   ]
  },
  {
   "cell_type": "code",
   "execution_count": 7,
   "metadata": {
    "collapsed": true
   },
   "outputs": [],
   "source": [
    "# Replacing Competition Distance missing value with median\n",
    "store_df.CompetitionDistance.fillna(store_df.CompetitionDistance.median(), inplace = True)\n",
    "\n",
    "# Replacing other missing values with 0\n",
    "store_df.fillna(0, inplace = True)"
   ]
  },
  {
   "cell_type": "code",
   "execution_count": 8,
   "metadata": {},
   "outputs": [
    {
     "name": "stdout",
     "output_type": "stream",
     "text": [
      "The missing values in the Train dataframe :\n",
      " Store            0\n",
      "DayOfWeek        0\n",
      "Sales            0\n",
      "Customers        0\n",
      "Open             0\n",
      "Promo            0\n",
      "StateHoliday     0\n",
      "SchoolHoliday    0\n",
      "dtype: int64\n"
     ]
    }
   ],
   "source": [
    "# Dealing with missing values - Train dataframe\n",
    "print(\"The missing values in the Train dataframe :\\n\", train_df.isnull().sum())"
   ]
  },
  {
   "cell_type": "markdown",
   "metadata": {},
   "source": [
    "According to the above results, the train dataframe does not have any missing values"
   ]
  },
  {
   "cell_type": "code",
   "execution_count": 9,
   "metadata": {},
   "outputs": [
    {
     "name": "stdout",
     "output_type": "stream",
     "text": [
      "Exploring all the new column - SalesPerCustomer in depth: \n",
      " count    844340.000000\n",
      "mean          9.493619\n",
      "std           2.197494\n",
      "min           0.000000\n",
      "25%           7.895563\n",
      "50%           9.250000\n",
      "75%          10.899729\n",
      "max          64.957854\n",
      "Name: SalesPerCustomer, dtype: float64\n"
     ]
    }
   ],
   "source": [
    "# Feature Engineering - adding a set of new variables on the train data\n",
    "train_df['Year'] = train_df.index.year\n",
    "train_df['Month'] = train_df.index.month\n",
    "train_df['Day'] = train_df.index.day\n",
    "train_df['WeekofYear'] = train_df.index.weekofyear\n",
    "\n",
    "train_df['SalesPerCustomer'] = train_df.Sales / train_df.Customers\n",
    "print('Exploring all the new column - SalesPerCustomer in depth: \\n', train_df.SalesPerCustomer.describe())"
   ]
  },
  {
   "cell_type": "code",
   "execution_count": 10,
   "metadata": {},
   "outputs": [
    {
     "name": "stdout",
     "output_type": "stream",
     "text": [
      "The missing values in the Train dataframe :\n",
      " Store                    0\n",
      "DayOfWeek                0\n",
      "Sales                    0\n",
      "Customers                0\n",
      "Open                     0\n",
      "Promo                    0\n",
      "StateHoliday             0\n",
      "SchoolHoliday            0\n",
      "Year                     0\n",
      "Month                    0\n",
      "Day                      0\n",
      "WeekofYear               0\n",
      "SalesPerCustomer    172869\n",
      "dtype: int64\n"
     ]
    }
   ],
   "source": [
    "# Revisiting the missing values on the train dataframe\n",
    "print(\"The missing values in the Train dataframe :\\n\", train_df.isnull().sum())"
   ]
  },
  {
   "cell_type": "markdown",
   "metadata": {},
   "source": [
    "172,869 records i.e., about 20% of our data has zero dollars. Most of this data belongs to stores that are no longer Open. It is important to remove these Stores from our analysis to avoid baised forecasts.\n",
    "\n",
    "Also, there are few records in which the open stores have zero dollar sales even that being a working data. Since, the effected records are smaller in number, we assume some factors like - data entry or external forces involved and drop them from our analysis."
   ]
  },
  {
   "cell_type": "code",
   "execution_count": 11,
   "metadata": {},
   "outputs": [
    {
     "name": "stdout",
     "output_type": "stream",
     "text": [
      "Exploring the sales column in depth: \n",
      " count    844338.000000\n",
      "mean       6955.959134\n",
      "std        3103.815515\n",
      "min          46.000000\n",
      "25%        4859.000000\n",
      "50%        6369.000000\n",
      "75%        8360.000000\n",
      "max       41551.000000\n",
      "Name: Sales, dtype: float64\n"
     ]
    }
   ],
   "source": [
    "train_df = train_df[(train_df.Open != 0) & (train_df.Sales != 0)]\n",
    "train_df = train_df[train_df['Sales']!=0]\n",
    "\n",
    "print('Exploring the sales column in depth: \\n', train_df.Sales.describe())"
   ]
  },
  {
   "cell_type": "code",
   "execution_count": 12,
   "metadata": {},
   "outputs": [
    {
     "name": "stdout",
     "output_type": "stream",
     "text": [
      "The sample of the STORE dataframe is shown below and the dataframe has the following dimensions :  (844338, 17)\n"
     ]
    },
    {
     "data": {
      "text/html": [
       "<div>\n",
       "<style scoped>\n",
       "    .dataframe tbody tr th:only-of-type {\n",
       "        vertical-align: middle;\n",
       "    }\n",
       "\n",
       "    .dataframe tbody tr th {\n",
       "        vertical-align: top;\n",
       "    }\n",
       "\n",
       "    .dataframe thead th {\n",
       "        text-align: right;\n",
       "    }\n",
       "</style>\n",
       "<table border=\"1\" class=\"dataframe\">\n",
       "  <thead>\n",
       "    <tr style=\"text-align: right;\">\n",
       "      <th></th>\n",
       "      <th>Store</th>\n",
       "      <th>DayOfWeek</th>\n",
       "      <th>Sales</th>\n",
       "      <th>Customers</th>\n",
       "      <th>Open</th>\n",
       "      <th>Promo</th>\n",
       "      <th>StateHoliday</th>\n",
       "      <th>SchoolHoliday</th>\n",
       "      <th>Year</th>\n",
       "      <th>Month</th>\n",
       "      <th>Day</th>\n",
       "      <th>WeekofYear</th>\n",
       "      <th>SalesPerCustomer</th>\n",
       "      <th>StoreType</th>\n",
       "      <th>Assortment</th>\n",
       "      <th>CompetitionDistance</th>\n",
       "      <th>Promo2</th>\n",
       "    </tr>\n",
       "  </thead>\n",
       "  <tbody>\n",
       "    <tr>\n",
       "      <th>0</th>\n",
       "      <td>1</td>\n",
       "      <td>5</td>\n",
       "      <td>5263</td>\n",
       "      <td>555</td>\n",
       "      <td>1</td>\n",
       "      <td>1</td>\n",
       "      <td>0</td>\n",
       "      <td>1</td>\n",
       "      <td>2015</td>\n",
       "      <td>7</td>\n",
       "      <td>31</td>\n",
       "      <td>31</td>\n",
       "      <td>9.482883</td>\n",
       "      <td>c</td>\n",
       "      <td>a</td>\n",
       "      <td>1270.0</td>\n",
       "      <td>0</td>\n",
       "    </tr>\n",
       "    <tr>\n",
       "      <th>1</th>\n",
       "      <td>1</td>\n",
       "      <td>4</td>\n",
       "      <td>5020</td>\n",
       "      <td>546</td>\n",
       "      <td>1</td>\n",
       "      <td>1</td>\n",
       "      <td>0</td>\n",
       "      <td>1</td>\n",
       "      <td>2015</td>\n",
       "      <td>7</td>\n",
       "      <td>30</td>\n",
       "      <td>31</td>\n",
       "      <td>9.194139</td>\n",
       "      <td>c</td>\n",
       "      <td>a</td>\n",
       "      <td>1270.0</td>\n",
       "      <td>0</td>\n",
       "    </tr>\n",
       "    <tr>\n",
       "      <th>2</th>\n",
       "      <td>1</td>\n",
       "      <td>3</td>\n",
       "      <td>4782</td>\n",
       "      <td>523</td>\n",
       "      <td>1</td>\n",
       "      <td>1</td>\n",
       "      <td>0</td>\n",
       "      <td>1</td>\n",
       "      <td>2015</td>\n",
       "      <td>7</td>\n",
       "      <td>29</td>\n",
       "      <td>31</td>\n",
       "      <td>9.143403</td>\n",
       "      <td>c</td>\n",
       "      <td>a</td>\n",
       "      <td>1270.0</td>\n",
       "      <td>0</td>\n",
       "    </tr>\n",
       "    <tr>\n",
       "      <th>3</th>\n",
       "      <td>1</td>\n",
       "      <td>2</td>\n",
       "      <td>5011</td>\n",
       "      <td>560</td>\n",
       "      <td>1</td>\n",
       "      <td>1</td>\n",
       "      <td>0</td>\n",
       "      <td>1</td>\n",
       "      <td>2015</td>\n",
       "      <td>7</td>\n",
       "      <td>28</td>\n",
       "      <td>31</td>\n",
       "      <td>8.948214</td>\n",
       "      <td>c</td>\n",
       "      <td>a</td>\n",
       "      <td>1270.0</td>\n",
       "      <td>0</td>\n",
       "    </tr>\n",
       "    <tr>\n",
       "      <th>4</th>\n",
       "      <td>1</td>\n",
       "      <td>1</td>\n",
       "      <td>6102</td>\n",
       "      <td>612</td>\n",
       "      <td>1</td>\n",
       "      <td>1</td>\n",
       "      <td>0</td>\n",
       "      <td>1</td>\n",
       "      <td>2015</td>\n",
       "      <td>7</td>\n",
       "      <td>27</td>\n",
       "      <td>31</td>\n",
       "      <td>9.970588</td>\n",
       "      <td>c</td>\n",
       "      <td>a</td>\n",
       "      <td>1270.0</td>\n",
       "      <td>0</td>\n",
       "    </tr>\n",
       "  </tbody>\n",
       "</table>\n",
       "</div>"
      ],
      "text/plain": [
       "   Store  DayOfWeek  Sales  Customers  Open  Promo StateHoliday  \\\n",
       "0      1          5   5263        555     1      1            0   \n",
       "1      1          4   5020        546     1      1            0   \n",
       "2      1          3   4782        523     1      1            0   \n",
       "3      1          2   5011        560     1      1            0   \n",
       "4      1          1   6102        612     1      1            0   \n",
       "\n",
       "   SchoolHoliday  Year  Month  Day  WeekofYear  SalesPerCustomer StoreType  \\\n",
       "0              1  2015      7   31          31          9.482883         c   \n",
       "1              1  2015      7   30          31          9.194139         c   \n",
       "2              1  2015      7   29          31          9.143403         c   \n",
       "3              1  2015      7   28          31          8.948214         c   \n",
       "4              1  2015      7   27          31          9.970588         c   \n",
       "\n",
       "  Assortment  CompetitionDistance  Promo2  \n",
       "0          a               1270.0       0  \n",
       "1          a               1270.0       0  \n",
       "2          a               1270.0       0  \n",
       "3          a               1270.0       0  \n",
       "4          a               1270.0       0  "
      ]
     },
     "execution_count": 12,
     "metadata": {},
     "output_type": "execute_result"
    }
   ],
   "source": [
    "# Joining the two dataframes - Train and Store\n",
    "\n",
    "train_combined_df = pd.merge(train_df, store_df, how = 'inner', on = 'Store')\n",
    "print('The sample of the STORE dataframe is shown below and the dataframe has the following dimensions : ', train_combined_df.shape)\n",
    "train_combined_df.head(5)"
   ]
  },
  {
   "cell_type": "code",
   "execution_count": 13,
   "metadata": {},
   "outputs": [
    {
     "data": {
      "text/plain": [
       "({0, 1}, {0, 1}, {'a', 'b', 'c', 'd'}, {'a', 'b', 'c'})"
      ]
     },
     "execution_count": 13,
     "metadata": {},
     "output_type": "execute_result"
    }
   ],
   "source": [
    "# Additional cleaning on the dataframe\n",
    "train_combined_df.loc[train_combined_df.StateHoliday == 0,'StateHoliday'] = train_combined_df.loc[train_combined_df.StateHoliday == 0,'StateHoliday'].astype(str)\n",
    "train_combined_df['StateHoliday'] = train_combined_df.StateHoliday.map({'0':0, 'a':1 ,'b' : 1,'c': 1})\n",
    "\n",
    "set(train_combined_df.SchoolHoliday), set(train_combined_df.StateHoliday), set(train_combined_df.StoreType), set(train_combined_df.Assortment)"
   ]
  },
  {
   "cell_type": "markdown",
   "metadata": {},
   "source": [
    "For this project purposes, skipping the Exploratory Data Analysis part and proceeding to building the ML Models."
   ]
  },
  {
   "cell_type": "code",
   "execution_count": 14,
   "metadata": {},
   "outputs": [
    {
     "name": "stdout",
     "output_type": "stream",
     "text": [
      "Number of unique values in each column of dataframe:\n",
      "Store                    1115\n",
      "DayOfWeek                   7\n",
      "Sales                   21733\n",
      "Customers                4083\n",
      "Open                        1\n",
      "Promo                       2\n",
      "StateHoliday                2\n",
      "SchoolHoliday               2\n",
      "Year                        3\n",
      "Month                      12\n",
      "Day                        31\n",
      "WeekofYear                 52\n",
      "SalesPerCustomer       651407\n",
      "StoreType                   4\n",
      "Assortment                  3\n",
      "CompetitionDistance       655\n",
      "Promo2                      2\n",
      "dtype: int64\n",
      "Number of missing values in each column of dataframe:\n",
      "Store                  0\n",
      "DayOfWeek              0\n",
      "Sales                  0\n",
      "Customers              0\n",
      "Open                   0\n",
      "Promo                  0\n",
      "StateHoliday           0\n",
      "SchoolHoliday          0\n",
      "Year                   0\n",
      "Month                  0\n",
      "Day                    0\n",
      "WeekofYear             0\n",
      "SalesPerCustomer       0\n",
      "StoreType              0\n",
      "Assortment             0\n",
      "CompetitionDistance    0\n",
      "Promo2                 0\n",
      "dtype: int64\n"
     ]
    }
   ],
   "source": [
    "print('Number of unique values in each column of dataframe:')\n",
    "print(train_combined_df.nunique())\n",
    "\n",
    "print('Number of missing values in each column of dataframe:')\n",
    "print(train_combined_df.isnull().sum())"
   ]
  },
  {
   "cell_type": "code",
   "execution_count": 15,
   "metadata": {},
   "outputs": [
    {
     "data": {
      "text/html": [
       "<div>\n",
       "<style scoped>\n",
       "    .dataframe tbody tr th:only-of-type {\n",
       "        vertical-align: middle;\n",
       "    }\n",
       "\n",
       "    .dataframe tbody tr th {\n",
       "        vertical-align: top;\n",
       "    }\n",
       "\n",
       "    .dataframe thead th {\n",
       "        text-align: right;\n",
       "    }\n",
       "</style>\n",
       "<table border=\"1\" class=\"dataframe\">\n",
       "  <thead>\n",
       "    <tr style=\"text-align: right;\">\n",
       "      <th></th>\n",
       "      <th>DayOfWeek</th>\n",
       "      <th>Customers</th>\n",
       "      <th>Promo</th>\n",
       "      <th>StateHoliday</th>\n",
       "      <th>SchoolHoliday</th>\n",
       "      <th>Year</th>\n",
       "      <th>Month</th>\n",
       "      <th>Day</th>\n",
       "      <th>WeekofYear</th>\n",
       "      <th>CompetitionDistance</th>\n",
       "      <th>Promo2</th>\n",
       "      <th>StoreType_a</th>\n",
       "      <th>StoreType_b</th>\n",
       "      <th>StoreType_c</th>\n",
       "      <th>StoreType_d</th>\n",
       "      <th>Assortment_a</th>\n",
       "      <th>Assortment_b</th>\n",
       "      <th>Assortment_c</th>\n",
       "    </tr>\n",
       "  </thead>\n",
       "  <tbody>\n",
       "    <tr>\n",
       "      <th>0</th>\n",
       "      <td>5</td>\n",
       "      <td>555</td>\n",
       "      <td>1</td>\n",
       "      <td>0</td>\n",
       "      <td>1</td>\n",
       "      <td>2015</td>\n",
       "      <td>7</td>\n",
       "      <td>31</td>\n",
       "      <td>31</td>\n",
       "      <td>1270.0</td>\n",
       "      <td>0</td>\n",
       "      <td>0</td>\n",
       "      <td>0</td>\n",
       "      <td>1</td>\n",
       "      <td>0</td>\n",
       "      <td>1</td>\n",
       "      <td>0</td>\n",
       "      <td>0</td>\n",
       "    </tr>\n",
       "    <tr>\n",
       "      <th>1</th>\n",
       "      <td>4</td>\n",
       "      <td>546</td>\n",
       "      <td>1</td>\n",
       "      <td>0</td>\n",
       "      <td>1</td>\n",
       "      <td>2015</td>\n",
       "      <td>7</td>\n",
       "      <td>30</td>\n",
       "      <td>31</td>\n",
       "      <td>1270.0</td>\n",
       "      <td>0</td>\n",
       "      <td>0</td>\n",
       "      <td>0</td>\n",
       "      <td>1</td>\n",
       "      <td>0</td>\n",
       "      <td>1</td>\n",
       "      <td>0</td>\n",
       "      <td>0</td>\n",
       "    </tr>\n",
       "    <tr>\n",
       "      <th>2</th>\n",
       "      <td>3</td>\n",
       "      <td>523</td>\n",
       "      <td>1</td>\n",
       "      <td>0</td>\n",
       "      <td>1</td>\n",
       "      <td>2015</td>\n",
       "      <td>7</td>\n",
       "      <td>29</td>\n",
       "      <td>31</td>\n",
       "      <td>1270.0</td>\n",
       "      <td>0</td>\n",
       "      <td>0</td>\n",
       "      <td>0</td>\n",
       "      <td>1</td>\n",
       "      <td>0</td>\n",
       "      <td>1</td>\n",
       "      <td>0</td>\n",
       "      <td>0</td>\n",
       "    </tr>\n",
       "    <tr>\n",
       "      <th>3</th>\n",
       "      <td>2</td>\n",
       "      <td>560</td>\n",
       "      <td>1</td>\n",
       "      <td>0</td>\n",
       "      <td>1</td>\n",
       "      <td>2015</td>\n",
       "      <td>7</td>\n",
       "      <td>28</td>\n",
       "      <td>31</td>\n",
       "      <td>1270.0</td>\n",
       "      <td>0</td>\n",
       "      <td>0</td>\n",
       "      <td>0</td>\n",
       "      <td>1</td>\n",
       "      <td>0</td>\n",
       "      <td>1</td>\n",
       "      <td>0</td>\n",
       "      <td>0</td>\n",
       "    </tr>\n",
       "    <tr>\n",
       "      <th>4</th>\n",
       "      <td>1</td>\n",
       "      <td>612</td>\n",
       "      <td>1</td>\n",
       "      <td>0</td>\n",
       "      <td>1</td>\n",
       "      <td>2015</td>\n",
       "      <td>7</td>\n",
       "      <td>27</td>\n",
       "      <td>31</td>\n",
       "      <td>1270.0</td>\n",
       "      <td>0</td>\n",
       "      <td>0</td>\n",
       "      <td>0</td>\n",
       "      <td>1</td>\n",
       "      <td>0</td>\n",
       "      <td>1</td>\n",
       "      <td>0</td>\n",
       "      <td>0</td>\n",
       "    </tr>\n",
       "  </tbody>\n",
       "</table>\n",
       "</div>"
      ],
      "text/plain": [
       "   DayOfWeek  Customers  Promo  StateHoliday  SchoolHoliday  Year  Month  Day  \\\n",
       "0          5        555      1             0              1  2015      7   31   \n",
       "1          4        546      1             0              1  2015      7   30   \n",
       "2          3        523      1             0              1  2015      7   29   \n",
       "3          2        560      1             0              1  2015      7   28   \n",
       "4          1        612      1             0              1  2015      7   27   \n",
       "\n",
       "   WeekofYear  CompetitionDistance  Promo2  StoreType_a  StoreType_b  \\\n",
       "0          31               1270.0       0            0            0   \n",
       "1          31               1270.0       0            0            0   \n",
       "2          31               1270.0       0            0            0   \n",
       "3          31               1270.0       0            0            0   \n",
       "4          31               1270.0       0            0            0   \n",
       "\n",
       "   StoreType_c  StoreType_d  Assortment_a  Assortment_b  Assortment_c  \n",
       "0            1            0             1             0             0  \n",
       "1            1            0             1             0             0  \n",
       "2            1            0             1             0             0  \n",
       "3            1            0             1             0             0  \n",
       "4            1            0             1             0             0  "
      ]
     },
     "execution_count": 15,
     "metadata": {},
     "output_type": "execute_result"
    }
   ],
   "source": [
    "# Creating the dependent and independent variables\n",
    "X_train_df = train_combined_df.drop(['Store','Sales','Open','SalesPerCustomer'], axis = 1)\n",
    "y_train_Sales_df = train_combined_df.Sales\n",
    "\n",
    "X_train_df_lr = pd.get_dummies(X_train_df)\n",
    "X_train_df_lr.head()"
   ]
  },
  {
   "cell_type": "code",
   "execution_count": 16,
   "metadata": {},
   "outputs": [
    {
     "name": "stderr",
     "output_type": "stream",
     "text": [
      "C:\\Users\\aparn\\Anaconda3\\lib\\site-packages\\sklearn\\cross_validation.py:44: DeprecationWarning: This module was deprecated in version 0.18 in favor of the model_selection module into which all the refactored classes and functions are moved. Also note that the interface of the new CV iterators are different from that of this module. This module will be removed in 0.20.\n",
      "  \"This module will be removed in 0.20.\", DeprecationWarning)\n"
     ]
    }
   ],
   "source": [
    "# Splitting the data into train and test sets\n",
    "from sklearn.cross_validation import train_test_split\n",
    "X_train_lr, X_test_lr, y_train_lr, y_test_lr = train_test_split(X_train_df_lr, y_train_Sales_df, test_size = 0.3, random_state = 123)"
   ]
  },
  {
   "cell_type": "code",
   "execution_count": 17,
   "metadata": {
    "collapsed": true
   },
   "outputs": [],
   "source": [
    "# Model function:\n",
    "from sklearn.metrics import mean_squared_error\n",
    "from math import sqrt\n",
    "\n",
    "def regression_model(model, training_X, training_y, testing_X, testing_y):\n",
    "    # cross validation scores \n",
    "    y_train_predicted = model.predict(training_X)\n",
    "    y_test_predicted = model.predict(testing_X)\n",
    "    \n",
    "    rmse_train = sqrt(mean_squared_error(training_y, y_train_predicted))\n",
    "    mape_train = np.mean(np.abs((training_y - y_train_predicted) / training_y)) * 100 \n",
    "    rmse_test = sqrt(mean_squared_error(testing_y, y_test_predicted))\n",
    "    mape_test = np.mean(np.abs((testing_y - y_test_predicted) / testing_y)) * 100 \n",
    "        \n",
    "    # Print results\n",
    "    print(\"Regression Model used : \", model)\n",
    "    print(\"Model Accuracy : \",  model.score(training_X, training_y))\n",
    "    print(\"Test Accuracy : \", model.score(testing_X, testing_y))\n",
    "    print(\"Training RMSE : \", rmse_train)\n",
    "    print(\"Training MAPE : \", mape_train)\n",
    "    print(\"Testing RMSE : \", rmse_test)\n",
    "    print(\"Testing MAPE : \", mape_test)"
   ]
  },
  {
   "cell_type": "code",
   "execution_count": 18,
   "metadata": {},
   "outputs": [
    {
     "name": "stdout",
     "output_type": "stream",
     "text": [
      "Applying Linear Regression Model\n",
      "Regression Model used :  LinearRegression(copy_X=True, fit_intercept=True, n_jobs=1, normalize=False)\n",
      "Model Accuracy :  0.8254745566567221\n",
      "Test Accuracy :  0.8246181540866377\n",
      "Training RMSE :  1298.4585365861067\n",
      "Training MAPE :  14.444824767528807\n",
      "Testing RMSE :  1295.6043336357966\n",
      "Testing MAPE :  14.46525566970302\n"
     ]
    }
   ],
   "source": [
    "# Model 1\n",
    "print(\"Applying Linear Regression Model\")\n",
    "\n",
    "from sklearn.linear_model import LinearRegression\n",
    "linear_reg = LinearRegression()\n",
    "linear_reg = linear_reg.fit(X_train_lr, y_train_lr)\n",
    "LinearRegression_Results = regression_model(linear_reg, X_train_lr, y_train_lr, X_test_lr, y_test_lr)"
   ]
  },
  {
   "cell_type": "code",
   "execution_count": 19,
   "metadata": {},
   "outputs": [
    {
     "name": "stdout",
     "output_type": "stream",
     "text": [
      "Applying Bayesian Ridge Regression Model\n",
      "Regression Model used :  BayesianRidge(alpha_1=1e-06, alpha_2=1e-06, compute_score=False, copy_X=True,\n",
      "       fit_intercept=True, lambda_1=1e-06, lambda_2=1e-06, n_iter=300,\n",
      "       normalize=False, tol=0.001, verbose=False)\n",
      "Model Accuracy :  0.8254745562535597\n",
      "Test Accuracy :  0.824618293779462\n",
      "Training RMSE :  1298.4585380858582\n",
      "Training MAPE :  14.4447964667408\n",
      "Testing RMSE :  1295.6038176568945\n",
      "Testing MAPE :  14.465223543103436\n"
     ]
    }
   ],
   "source": [
    "# Model 2\n",
    "print(\"Applying Bayesian Ridge Regression Model\")\n",
    "\n",
    "from sklearn.linear_model import BayesianRidge\n",
    "bridge_reg = BayesianRidge()\n",
    "brdige_reg = bridge_reg.fit(X_train_lr, y_train_lr)\n",
    "BayesianRidgeRegression_Results = regression_model(bridge_reg, X_train_lr, y_train_lr, X_test_lr, y_test_lr)"
   ]
  },
  {
   "cell_type": "code",
   "execution_count": 20,
   "metadata": {},
   "outputs": [
    {
     "name": "stdout",
     "output_type": "stream",
     "text": [
      "Applying Lasso Regression Model\n",
      "Regression Model used :  LassoLars(alpha=0.3, copy_X=True, eps=2.220446049250313e-16,\n",
      "     fit_intercept=False, fit_path=True, max_iter=500, normalize=True,\n",
      "     positive=False, precompute='auto', verbose=False)\n",
      "Model Accuracy :  0.8236356144300604\n",
      "Test Accuracy :  0.8228708282890297\n",
      "Training RMSE :  1305.2814192054866\n",
      "Training MAPE :  14.530380797976703\n",
      "Testing RMSE :  1302.0423777898616\n",
      "Testing MAPE :  14.546116807145623\n"
     ]
    }
   ],
   "source": [
    "# Model 3\n",
    "print(\"Applying Lasso Regression Model\")\n",
    "\n",
    "from sklearn.linear_model import LassoLars\n",
    "lasso_reg = LassoLars(alpha = 0.3, fit_intercept = False, normalize = True)\n",
    "lasso_reg = lasso_reg.fit(X_train_lr, y_train_lr)\n",
    "LassoRegression_Results = regression_model(lasso_reg, X_train_lr, y_train_lr, X_test_lr, y_test_lr)"
   ]
  },
  {
   "cell_type": "code",
   "execution_count": 21,
   "metadata": {},
   "outputs": [
    {
     "name": "stdout",
     "output_type": "stream",
     "text": [
      "Applying Support Vector Regression Model\n"
     ]
    }
   ],
   "source": [
    "# Model 4\n",
    "print(\"Applying Support Vector Regression Model\")\n",
    "\n",
    "from sklearn.svm import SVR\n",
    "sv_reg = SVR(kernel = 'rbf')\n",
    "sv_reg = sv_reg.fit(X_train_lr, y_train_lr)\n",
    "SupportVectorRegression_Results = regression_model(sv_reg, X_train_lr, y_train_lr, X_test_lr, y_test_lr)"
   ]
  },
  {
   "cell_type": "code",
   "execution_count": 22,
   "metadata": {},
   "outputs": [
    {
     "name": "stdout",
     "output_type": "stream",
     "text": [
      "Applying Decision Tree Regression Model\n",
      "Regression Model used :  DecisionTreeRegressor(criterion='mse', max_depth=None, max_features=None,\n",
      "           max_leaf_nodes=None, min_impurity_split=1e-07,\n",
      "           min_samples_leaf=20, min_samples_split=2,\n",
      "           min_weight_fraction_leaf=0.0, presort=False, random_state=None,\n",
      "           splitter='best')\n",
      "Model Accuracy :  0.9511725789446568\n",
      "Test Accuracy :  0.9376793323396257\n",
      "Training RMSE :  686.8005025197037\n",
      "Training MAPE :  6.636911053722345\n",
      "Testing RMSE :  772.3179386580568\n",
      "Testing MAPE :  7.45427542086193\n"
     ]
    }
   ],
   "source": [
    "# Model 5\n",
    "print(\"Applying Decision Tree Regression Model\")\n",
    "\n",
    "from sklearn.tree import DecisionTreeRegressor\n",
    "dt_reg = DecisionTreeRegressor(min_samples_leaf = 20)\n",
    "dt_reg = dt_reg.fit(X_train_lr, y_train_lr)\n",
    "DecisionRegression_Results = regression_model(dt_reg, X_train_lr, y_train_lr, X_test_lr, y_test_lr)"
   ]
  },
  {
   "cell_type": "code",
   "execution_count": 23,
   "metadata": {},
   "outputs": [
    {
     "name": "stdout",
     "output_type": "stream",
     "text": [
      "Applying Random Forest Regression Model\n"
     ]
    },
    {
     "name": "stderr",
     "output_type": "stream",
     "text": [
      "C:\\Users\\aparn\\Anaconda3\\lib\\site-packages\\sklearn\\ensemble\\weight_boosting.py:29: DeprecationWarning: numpy.core.umath_tests is an internal NumPy module and should not be imported. It will be removed in a future NumPy release.\n",
      "  from numpy.core.umath_tests import inner1d\n"
     ]
    },
    {
     "name": "stdout",
     "output_type": "stream",
     "text": [
      "Regression Model used :  RandomForestRegressor(bootstrap=True, criterion='mse', max_depth=None,\n",
      "           max_features='auto', max_leaf_nodes=None,\n",
      "           min_impurity_split=1e-07, min_samples_leaf=1,\n",
      "           min_samples_split=2, min_weight_fraction_leaf=0.0,\n",
      "           n_estimators=30, n_jobs=1, oob_score=False, random_state=None,\n",
      "           verbose=0, warm_start=False)\n",
      "Model Accuracy :  0.9945252021426889\n",
      "Test Accuracy :  0.9645122625530809\n",
      "Training RMSE :  229.97612673614609\n",
      "Training MAPE :  2.1682661958786156\n",
      "Testing RMSE :  582.7995789202342\n",
      "Testing MAPE :  5.651733429149885\n"
     ]
    }
   ],
   "source": [
    "# Model 6\n",
    "print(\"Applying Random Forest Regression Model\")\n",
    "\n",
    "from sklearn.ensemble import RandomForestRegressor\n",
    "rf_reg = RandomForestRegressor(n_estimators = 30)\n",
    "rf_reg = rf_reg.fit(X_train_lr, y_train_lr)\n",
    "RandomForestRegression_Results = regression_model(rf_reg, X_train_lr, y_train_lr, X_test_lr, y_test_lr)"
   ]
  },
  {
   "cell_type": "code",
   "execution_count": 24,
   "metadata": {},
   "outputs": [
    {
     "name": "stdout",
     "output_type": "stream",
     "text": [
      "Applying XGBoost Regression Model\n",
      "Regression Model used :  XGBRegressor(base_score=0.5, booster='gbtree', colsample_bylevel=1,\n",
      "       colsample_bytree=0.4, gamma=0, learning_rate=0.5, max_delta_step=0,\n",
      "       max_depth=3, min_child_weight=1.5, missing=None, n_estimators=1000,\n",
      "       n_jobs=1, nthread=None, objective='reg:linear', random_state=0,\n",
      "       reg_alpha=0.7, reg_lambda=0.45, scale_pos_weight=1, seed=123,\n",
      "       silent=True, subsample=0.7)\n",
      "Model Accuracy :  0.9595934365617302\n",
      "Test Accuracy :  0.9586956215597113\n",
      "Training RMSE :  624.776475334353\n",
      "Training MAPE :  6.850490719079971\n",
      "Testing RMSE :  628.7501753782865\n",
      "Testing MAPE :  6.914405524730682\n"
     ]
    }
   ],
   "source": [
    "# Model 7\n",
    "print(\"Applying XGBoost Regression Model\")\n",
    "\n",
    "from xgboost import XGBRegressor\n",
    "xgb_reg = XGBRegressor(colsample_bytree = 0.4, gamma = 0, learning_rate = 0.5, max_depth = 3, \n",
    "                      min_child_weight = 1.5, n_estimators = 1000, reg_alpha = 0.7, reg_lambda = 0.45, subsample = 0.7,\n",
    "                      seed = 123)\n",
    "xgb_reg = xgb_reg.fit(X_train_lr, y_train_lr)\n",
    "XGBoostRegression_Results = regression_model(xgb_reg, X_train_lr, y_train_lr, X_test_lr, y_test_lr)"
   ]
  }
 ],
 "metadata": {
  "kernelspec": {
   "display_name": "Python 3",
   "language": "python",
   "name": "python3"
  },
  "language_info": {
   "codemirror_mode": {
    "name": "ipython",
    "version": 3
   },
   "file_extension": ".py",
   "mimetype": "text/x-python",
   "name": "python",
   "nbconvert_exporter": "python",
   "pygments_lexer": "ipython3",
   "version": "3.6.1"
  }
 },
 "nbformat": 4,
 "nbformat_minor": 2
}
